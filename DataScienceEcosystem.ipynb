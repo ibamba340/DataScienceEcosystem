{
 "cells": [
  {
   "cell_type": "markdown",
   "id": "e5ac4391-bfeb-49f6-9e87-9dec8e16386e",
   "metadata": {},
   "source": [
    "# Data Science Tools and Ecosystem"
   ]
  },
  {
   "cell_type": "markdown",
   "id": "40d89d91-ff6c-4869-a3cb-38e6cb898bd9",
   "metadata": {},
   "source": [
    "In this notebook, Data Science Tools and Ecosystem are summarized."
   ]
  },
  {
   "cell_type": "markdown",
   "id": "4329fd83-4904-4421-aa5d-e89ccb823fcb",
   "metadata": {},
   "source": [
    "some of the key takeaways from the course\n",
    "\n",
    "**objectives**\n",
    "\n",
    "1. Create a Jupyter Notebook\n",
    "2. Insert code and markdown cells\n",
    "3. Share your notebook through GitHub\n",
    "\n",
    "items covered in this notebook\n",
    "- Python\n",
    "- R\n",
    "- SQL \n",
    "- Java \n",
    "- Julia "
   ]
  },
  {
   "cell_type": "markdown",
   "id": "8bb38d25-eb2d-4bc1-ac66-ad5b64f631fa",
   "metadata": {},
   "source": [
    "Some of the popular languages that Data Scientists use are:\n",
    "1. Python\n",
    "2. R\n",
    "3. SQL \n",
    "4. Java \n",
    "5. Julia "
   ]
  },
  {
   "cell_type": "markdown",
   "id": "0644a941-816f-4edf-a90a-18e4a8c907fc",
   "metadata": {},
   "source": [
    "Some of the commonly used libraries used by Data Scientists include:\n",
    "1. TensorFlow \n",
    "2. Keras\n",
    "3. Pandas \n",
    "4. NumPy\n",
    "5. Matplotlib"
   ]
  },
  {
   "cell_type": "markdown",
   "id": "cc5df8c5-0942-4077-9bc3-b159c3701799",
   "metadata": {},
   "source": [
    "| Open source Tools     | Data Science Tools    | \n",
    "| --------------------- |:---------------------:| \n",
    "| Data Mining           | Pandas                | \n",
    "| Data Analysis         | Hadoop                | \n",
    "| Data Visualization    | Ggplot 2              |  "
   ]
  },
  {
   "cell_type": "markdown",
   "id": "cf1ad3b8-dbdf-42b9-aa24-fd1daf9a6192",
   "metadata": {},
   "source": [
    "### Below are a few examples of evaluating arithmetic expressions in Python"
   ]
  },
  {
   "cell_type": "markdown",
   "id": "3758695a-9afb-49a4-ae48-135192ac79dd",
   "metadata": {},
   "source": [
    "This a simple arithmetic expression to mutiply then add integers"
   ]
  },
  {
   "cell_type": "code",
   "execution_count": 7,
   "id": "79e58553-d64a-4bcd-892b-83734cc630f5",
   "metadata": {},
   "outputs": [
    {
     "data": {
      "text/plain": [
       "17"
      ]
     },
     "execution_count": 7,
     "metadata": {},
     "output_type": "execute_result"
    }
   ],
   "source": [
    "(3*4)+5"
   ]
  },
  {
   "cell_type": "markdown",
   "id": "8eb582c0-0193-47fc-b0fb-fd25feb2b341",
   "metadata": {},
   "source": [
    "This will convert 200 minutes to hours by diving by 60"
   ]
  },
  {
   "cell_type": "code",
   "execution_count": 7,
   "id": "e2a4fb78-29ac-4794-bd8d-d188a165a97b",
   "metadata": {},
   "outputs": [
    {
     "name": "stdout",
     "output_type": "stream",
     "text": [
      "3.3333333333333335\n"
     ]
    }
   ],
   "source": [
    "m = 200\n",
    "h = 60\n",
    "print(m/h)"
   ]
  },
  {
   "cell_type": "markdown",
   "id": "4bbb0e2e-b94a-46cd-a43e-bafbf4ba43ee",
   "metadata": {},
   "source": [
    "## BAMBA Ibrahim\n",
    "Author "
   ]
  },
  {
   "cell_type": "code",
   "execution_count": null,
   "id": "19c6658f-2bb6-4997-ad8a-9e2368afd60d",
   "metadata": {},
   "outputs": [],
   "source": []
  }
 ],
 "metadata": {
  "kernelspec": {
   "display_name": "Python",
   "language": "python",
   "name": "conda-env-python-py"
  },
  "language_info": {
   "codemirror_mode": {
    "name": "ipython",
    "version": 3
   },
   "file_extension": ".py",
   "mimetype": "text/x-python",
   "name": "python",
   "nbconvert_exporter": "python",
   "pygments_lexer": "ipython3",
   "version": "3.7.12"
  }
 },
 "nbformat": 4,
 "nbformat_minor": 5
}
